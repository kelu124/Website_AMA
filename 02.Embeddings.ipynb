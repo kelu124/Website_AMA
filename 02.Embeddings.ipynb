{
 "cells": [
  {
   "cell_type": "code",
   "execution_count": 88,
   "metadata": {},
   "outputs": [],
   "source": [
    "import os\n",
    "import numpy as np\n",
    "import pandas as pd\n",
    "\n",
    "# Reusing [https://github.com/openai/openai-cookbook/blob/main/examples/Question_answering_using_embeddings.ipynb](https://github.com/openai/openai-cookbook/blob/main/examples/Question_answering_using_embeddings.ipynb)\n"
   ]
  },
  {
   "cell_type": "code",
   "execution_count": 89,
   "metadata": {},
   "outputs": [],
   "source": [
    "import numpy as np\n",
    "import openai\n",
    "import pandas as pd\n",
    "import pickle\n",
    "import tiktoken\n",
    "\n",
    "COMPLETIONS_MODEL = \"text-davinci-003\"\n",
    "EMBEDDING_MODEL = \"text-embedding-ada-002\""
   ]
  },
  {
   "cell_type": "markdown",
   "metadata": {},
   "source": [
    "We preprocess the document sections by creating an embedding vector for each section. An embedding is a vector of numbers that helps us understand how semantically similar or different the texts are. The closer two embeddings are to each other, the more similar are their contents. See the documentation on OpenAI embeddings for more information.\n",
    "\n",
    "This indexing stage can be executed offline and only runs once to precompute the indexes for the dataset so that each piece of content can be retrieved later. Since this is a small example, we will store and search the embeddings locally. If you have a larger dataset, consider using a vector search engine like Pinecone or Weaviate to power the search."
   ]
  },
  {
   "cell_type": "code",
   "execution_count": 90,
   "metadata": {},
   "outputs": [
    {
     "data": {
      "text/html": [
       "<div>\n",
       "<style scoped>\n",
       "    .dataframe tbody tr th:only-of-type {\n",
       "        vertical-align: middle;\n",
       "    }\n",
       "\n",
       "    .dataframe tbody tr th {\n",
       "        vertical-align: top;\n",
       "    }\n",
       "\n",
       "    .dataframe thead th {\n",
       "        text-align: right;\n",
       "    }\n",
       "</style>\n",
       "<table border=\"1\" class=\"dataframe\">\n",
       "  <thead>\n",
       "    <tr style=\"text-align: right;\">\n",
       "      <th></th>\n",
       "      <th>content</th>\n",
       "      <th>tokens</th>\n",
       "      <th>url</th>\n",
       "      <th>title</th>\n",
       "      <th>description</th>\n",
       "      <th>keywords</th>\n",
       "      <th>IDX</th>\n",
       "    </tr>\n",
       "    <tr>\n",
       "      <th>hash</th>\n",
       "      <th></th>\n",
       "      <th></th>\n",
       "      <th></th>\n",
       "      <th></th>\n",
       "      <th></th>\n",
       "      <th></th>\n",
       "      <th></th>\n",
       "    </tr>\n",
       "  </thead>\n",
       "  <tbody>\n",
       "    <tr>\n",
       "      <th>a8414fff120d9c5f9073376b27f52dcf</th>\n",
       "      <td>Mott MacDonald divisional director, Anne Kerr,...</td>\n",
       "      <td>111</td>\n",
       "      <td>https://www.mottmac.com/events/kpmg-global-pow...</td>\n",
       "      <td>KPMG Global Power and Utilities Conference - M...</td>\n",
       "      <td></td>\n",
       "      <td></td>\n",
       "      <td>a8414fff120d9c5f9073376b27f52dcf</td>\n",
       "    </tr>\n",
       "    <tr>\n",
       "      <th>3b1ca0a60662c15c1cd6e6fa0206f4a0</th>\n",
       "      <td>A consortium including Cheung Kong Infrastruct...</td>\n",
       "      <td>341</td>\n",
       "      <td>https://www.mottmac.com/article/103/mott-macdo...</td>\n",
       "      <td>Mott MacDonald advises CKI and United Utilitie...</td>\n",
       "      <td></td>\n",
       "      <td></td>\n",
       "      <td>3b1ca0a60662c15c1cd6e6fa0206f4a0</td>\n",
       "    </tr>\n",
       "    <tr>\n",
       "      <th>fb558366bffeb1834d6fea64b41236ba</th>\n",
       "      <td>Mott MacDonald, the global engineering, manage...</td>\n",
       "      <td>503</td>\n",
       "      <td>https://www.mottmac.com/article/552/mott-macdo...</td>\n",
       "      <td>Mott MacDonald chosen for four-country African...</td>\n",
       "      <td></td>\n",
       "      <td></td>\n",
       "      <td>fb558366bffeb1834d6fea64b41236ba</td>\n",
       "    </tr>\n",
       "    <tr>\n",
       "      <th>b0b1a2444987ebf09f8fe22a170cc6dd</th>\n",
       "      <td>We were proud to be platinum sponsor of The Ec...</td>\n",
       "      <td>584</td>\n",
       "      <td>https://www.mottmac.com/article/72168/turning-...</td>\n",
       "      <td>Turning climate ambition into action - Mott Ma...</td>\n",
       "      <td></td>\n",
       "      <td></td>\n",
       "      <td>b0b1a2444987ebf09f8fe22a170cc6dd</td>\n",
       "    </tr>\n",
       "    <tr>\n",
       "      <th>e8f484cc2df87052b1617e79b3dee16a</th>\n",
       "      <td>Mott MacDonald offers a wide variety of traffi...</td>\n",
       "      <td>98</td>\n",
       "      <td>https://www.mottmac.com/en-US/transportation-p...</td>\n",
       "      <td>Traffic engineering - Mott MacDonald</td>\n",
       "      <td></td>\n",
       "      <td></td>\n",
       "      <td>e8f484cc2df87052b1617e79b3dee16a</td>\n",
       "    </tr>\n",
       "    <tr>\n",
       "      <th>...</th>\n",
       "      <td>...</td>\n",
       "      <td>...</td>\n",
       "      <td>...</td>\n",
       "      <td>...</td>\n",
       "      <td>...</td>\n",
       "      <td>...</td>\n",
       "      <td>...</td>\n",
       "    </tr>\n",
       "    <tr>\n",
       "      <th>24438270208be5df0f6c89e56b2b7926</th>\n",
       "      <td>Mott MacDonald, assisted by Rand Europe, has b...</td>\n",
       "      <td>416</td>\n",
       "      <td>https://www.mottmac.com/article/154/mott-macdo...</td>\n",
       "      <td>Mott MacDonald to update Department for Transp...</td>\n",
       "      <td></td>\n",
       "      <td></td>\n",
       "      <td>24438270208be5df0f6c89e56b2b7926</td>\n",
       "    </tr>\n",
       "    <tr>\n",
       "      <th>7f41c6131fb54bc4522d9f760dee5c34</th>\n",
       "      <td>Phil Vigor, principal airport planner The stea...</td>\n",
       "      <td>523</td>\n",
       "      <td>https://www.mottmac.com/views/use-no-build-sol...</td>\n",
       "      <td>Use no-build solutions to optimise airport cap...</td>\n",
       "      <td>The steady pace of globalisation, improved pro...</td>\n",
       "      <td>air travel,airport,airport capacity,no-build</td>\n",
       "      <td>7f41c6131fb54bc4522d9f760dee5c34</td>\n",
       "    </tr>\n",
       "    <tr>\n",
       "      <th>d81b9d188f526726d84381fa7b041bff</th>\n",
       "      <td>Additional growth potential has been identifie...</td>\n",
       "      <td>140</td>\n",
       "      <td>https://www.mottmac.com/article/3368/tana-and-...</td>\n",
       "      <td>Tana and Beles growth corridor strategy, Ethio...</td>\n",
       "      <td></td>\n",
       "      <td>World bank,Strategy,economic,strengthening,Gro...</td>\n",
       "      <td>d81b9d188f526726d84381fa7b041bff</td>\n",
       "    </tr>\n",
       "    <tr>\n",
       "      <th>8397cf71f1d5a56f2815b41bf2a61088</th>\n",
       "      <td>Mott MacDonald and ADP have been appointed by ...</td>\n",
       "      <td>559</td>\n",
       "      <td>https://www.mottmac.com/releases/mott-macdonal...</td>\n",
       "      <td>Mott MacDonald and ADP to restore Spanish City...</td>\n",
       "      <td>Mott MacDonald and ADP have been appointed to ...</td>\n",
       "      <td>ADP,Heritage Lottery Fund,HLF,North Tyneside C...</td>\n",
       "      <td>8397cf71f1d5a56f2815b41bf2a61088</td>\n",
       "    </tr>\n",
       "    <tr>\n",
       "      <th>f5944f2125312249b74fec9173d69508</th>\n",
       "      <td>Mott MacDonald has been appointed to provide a...</td>\n",
       "      <td>504</td>\n",
       "      <td>https://www.mottmac.com/article/197/mott-macdo...</td>\n",
       "      <td>Mott MacDonald wins work on two EU water progr...</td>\n",
       "      <td></td>\n",
       "      <td></td>\n",
       "      <td>f5944f2125312249b74fec9173d69508</td>\n",
       "    </tr>\n",
       "  </tbody>\n",
       "</table>\n",
       "<p>3788 rows × 7 columns</p>\n",
       "</div>"
      ],
      "text/plain": [
       "                                                                            content  \\\n",
       "hash                                                                                  \n",
       "a8414fff120d9c5f9073376b27f52dcf  Mott MacDonald divisional director, Anne Kerr,...   \n",
       "3b1ca0a60662c15c1cd6e6fa0206f4a0  A consortium including Cheung Kong Infrastruct...   \n",
       "fb558366bffeb1834d6fea64b41236ba  Mott MacDonald, the global engineering, manage...   \n",
       "b0b1a2444987ebf09f8fe22a170cc6dd  We were proud to be platinum sponsor of The Ec...   \n",
       "e8f484cc2df87052b1617e79b3dee16a  Mott MacDonald offers a wide variety of traffi...   \n",
       "...                                                                             ...   \n",
       "24438270208be5df0f6c89e56b2b7926  Mott MacDonald, assisted by Rand Europe, has b...   \n",
       "7f41c6131fb54bc4522d9f760dee5c34  Phil Vigor, principal airport planner The stea...   \n",
       "d81b9d188f526726d84381fa7b041bff  Additional growth potential has been identifie...   \n",
       "8397cf71f1d5a56f2815b41bf2a61088  Mott MacDonald and ADP have been appointed by ...   \n",
       "f5944f2125312249b74fec9173d69508  Mott MacDonald has been appointed to provide a...   \n",
       "\n",
       "                                  tokens  \\\n",
       "hash                                       \n",
       "a8414fff120d9c5f9073376b27f52dcf     111   \n",
       "3b1ca0a60662c15c1cd6e6fa0206f4a0     341   \n",
       "fb558366bffeb1834d6fea64b41236ba     503   \n",
       "b0b1a2444987ebf09f8fe22a170cc6dd     584   \n",
       "e8f484cc2df87052b1617e79b3dee16a      98   \n",
       "...                                  ...   \n",
       "24438270208be5df0f6c89e56b2b7926     416   \n",
       "7f41c6131fb54bc4522d9f760dee5c34     523   \n",
       "d81b9d188f526726d84381fa7b041bff     140   \n",
       "8397cf71f1d5a56f2815b41bf2a61088     559   \n",
       "f5944f2125312249b74fec9173d69508     504   \n",
       "\n",
       "                                                                                url  \\\n",
       "hash                                                                                  \n",
       "a8414fff120d9c5f9073376b27f52dcf  https://www.mottmac.com/events/kpmg-global-pow...   \n",
       "3b1ca0a60662c15c1cd6e6fa0206f4a0  https://www.mottmac.com/article/103/mott-macdo...   \n",
       "fb558366bffeb1834d6fea64b41236ba  https://www.mottmac.com/article/552/mott-macdo...   \n",
       "b0b1a2444987ebf09f8fe22a170cc6dd  https://www.mottmac.com/article/72168/turning-...   \n",
       "e8f484cc2df87052b1617e79b3dee16a  https://www.mottmac.com/en-US/transportation-p...   \n",
       "...                                                                             ...   \n",
       "24438270208be5df0f6c89e56b2b7926  https://www.mottmac.com/article/154/mott-macdo...   \n",
       "7f41c6131fb54bc4522d9f760dee5c34  https://www.mottmac.com/views/use-no-build-sol...   \n",
       "d81b9d188f526726d84381fa7b041bff  https://www.mottmac.com/article/3368/tana-and-...   \n",
       "8397cf71f1d5a56f2815b41bf2a61088  https://www.mottmac.com/releases/mott-macdonal...   \n",
       "f5944f2125312249b74fec9173d69508  https://www.mottmac.com/article/197/mott-macdo...   \n",
       "\n",
       "                                                                              title  \\\n",
       "hash                                                                                  \n",
       "a8414fff120d9c5f9073376b27f52dcf  KPMG Global Power and Utilities Conference - M...   \n",
       "3b1ca0a60662c15c1cd6e6fa0206f4a0  Mott MacDonald advises CKI and United Utilitie...   \n",
       "fb558366bffeb1834d6fea64b41236ba  Mott MacDonald chosen for four-country African...   \n",
       "b0b1a2444987ebf09f8fe22a170cc6dd  Turning climate ambition into action - Mott Ma...   \n",
       "e8f484cc2df87052b1617e79b3dee16a               Traffic engineering - Mott MacDonald   \n",
       "...                                                                             ...   \n",
       "24438270208be5df0f6c89e56b2b7926  Mott MacDonald to update Department for Transp...   \n",
       "7f41c6131fb54bc4522d9f760dee5c34  Use no-build solutions to optimise airport cap...   \n",
       "d81b9d188f526726d84381fa7b041bff  Tana and Beles growth corridor strategy, Ethio...   \n",
       "8397cf71f1d5a56f2815b41bf2a61088  Mott MacDonald and ADP to restore Spanish City...   \n",
       "f5944f2125312249b74fec9173d69508  Mott MacDonald wins work on two EU water progr...   \n",
       "\n",
       "                                                                        description  \\\n",
       "hash                                                                                  \n",
       "a8414fff120d9c5f9073376b27f52dcf                                                      \n",
       "3b1ca0a60662c15c1cd6e6fa0206f4a0                                                      \n",
       "fb558366bffeb1834d6fea64b41236ba                                                      \n",
       "b0b1a2444987ebf09f8fe22a170cc6dd                                                      \n",
       "e8f484cc2df87052b1617e79b3dee16a                                                      \n",
       "...                                                                             ...   \n",
       "24438270208be5df0f6c89e56b2b7926                                                      \n",
       "7f41c6131fb54bc4522d9f760dee5c34  The steady pace of globalisation, improved pro...   \n",
       "d81b9d188f526726d84381fa7b041bff                                                      \n",
       "8397cf71f1d5a56f2815b41bf2a61088  Mott MacDonald and ADP have been appointed to ...   \n",
       "f5944f2125312249b74fec9173d69508                                                      \n",
       "\n",
       "                                                                           keywords  \\\n",
       "hash                                                                                  \n",
       "a8414fff120d9c5f9073376b27f52dcf                                                      \n",
       "3b1ca0a60662c15c1cd6e6fa0206f4a0                                                      \n",
       "fb558366bffeb1834d6fea64b41236ba                                                      \n",
       "b0b1a2444987ebf09f8fe22a170cc6dd                                                      \n",
       "e8f484cc2df87052b1617e79b3dee16a                                                      \n",
       "...                                                                             ...   \n",
       "24438270208be5df0f6c89e56b2b7926                                                      \n",
       "7f41c6131fb54bc4522d9f760dee5c34       air travel,airport,airport capacity,no-build   \n",
       "d81b9d188f526726d84381fa7b041bff  World bank,Strategy,economic,strengthening,Gro...   \n",
       "8397cf71f1d5a56f2815b41bf2a61088  ADP,Heritage Lottery Fund,HLF,North Tyneside C...   \n",
       "f5944f2125312249b74fec9173d69508                                                      \n",
       "\n",
       "                                                               IDX  \n",
       "hash                                                                \n",
       "a8414fff120d9c5f9073376b27f52dcf  a8414fff120d9c5f9073376b27f52dcf  \n",
       "3b1ca0a60662c15c1cd6e6fa0206f4a0  3b1ca0a60662c15c1cd6e6fa0206f4a0  \n",
       "fb558366bffeb1834d6fea64b41236ba  fb558366bffeb1834d6fea64b41236ba  \n",
       "b0b1a2444987ebf09f8fe22a170cc6dd  b0b1a2444987ebf09f8fe22a170cc6dd  \n",
       "e8f484cc2df87052b1617e79b3dee16a  e8f484cc2df87052b1617e79b3dee16a  \n",
       "...                                                            ...  \n",
       "24438270208be5df0f6c89e56b2b7926  24438270208be5df0f6c89e56b2b7926  \n",
       "7f41c6131fb54bc4522d9f760dee5c34  7f41c6131fb54bc4522d9f760dee5c34  \n",
       "d81b9d188f526726d84381fa7b041bff  d81b9d188f526726d84381fa7b041bff  \n",
       "8397cf71f1d5a56f2815b41bf2a61088  8397cf71f1d5a56f2815b41bf2a61088  \n",
       "f5944f2125312249b74fec9173d69508  f5944f2125312249b74fec9173d69508  \n",
       "\n",
       "[3788 rows x 7 columns]"
      ]
     },
     "execution_count": 90,
     "metadata": {},
     "output_type": "execute_result"
    }
   ],
   "source": [
    "ct = pd.read_parquet(\"data/content.parquet.gzip\")\n",
    "pg = pd.read_parquet(\"data/pages.parquet.gzip\")\n",
    "df = ct.merge(pg,on=\"hash\",how=\"left\")\n",
    "df[\"IDX\"] = df[\"hash\"]\n",
    "df = df.set_index(\"hash\")\n",
    "df = df[df.tokens > 50]\n",
    "df"
   ]
  },
  {
   "cell_type": "code",
   "execution_count": 91,
   "metadata": {},
   "outputs": [],
   "source": [
    "df = df[~df.duplicated(subset=[\"title\",\"content\"])]"
   ]
  },
  {
   "cell_type": "code",
   "execution_count": 92,
   "metadata": {},
   "outputs": [],
   "source": [
    "df.to_parquet(\"data/all_pages.parquet.gzip\")"
   ]
  },
  {
   "cell_type": "code",
   "execution_count": 93,
   "metadata": {},
   "outputs": [],
   "source": [
    "def get_embedding(text: str, model: str=EMBEDDING_MODEL) -> list[float]:\n",
    "    result = openai.Embedding.create(\n",
    "      model=model,\n",
    "      input=text\n",
    "    )\n",
    "    return result[\"data\"][0][\"embedding\"]\n",
    "\n",
    "def compute_doc_embeddings(df: pd.DataFrame) -> dict[tuple[str, str], list[float]]:\n",
    "    \"\"\"\n",
    "    Create an embedding for each row in the dataframe using the OpenAI Embeddings API.\n",
    "    \n",
    "    Return a dictionary that maps between each embedding vector and the index of the row that it corresponds to.\n",
    "    \"\"\"\n",
    "    return { idx: get_embedding(r.content) for idx, r in df.iterrows() }"
   ]
  },
  {
   "cell_type": "code",
   "execution_count": 94,
   "metadata": {},
   "outputs": [],
   "source": [
    "def load_embeddings(fname: str) -> dict[tuple[str, str], list[float]]:\n",
    "    \"\"\"\n",
    "    Read the document embeddings and their keys from a CSV.\n",
    "    \n",
    "    fname is the path to a CSV with exactly these named columns: \n",
    "        \"title\", \"heading\", \"0\", \"1\", ... up to the length of the embedding vectors.\n",
    "    \"\"\"\n",
    "    \n",
    "    df = pd.read_csv(fname, header=0,compression=\"gzip\")\n",
    "    max_dim = max([int(c) for c in df.columns if c != \"hash\"])\n",
    "    return {\n",
    "           (r.hash): [r[str(i)] for i in range(max_dim + 1)] for _, r in df.iterrows()\n",
    "    }"
   ]
  },
  {
   "cell_type": "code",
   "execution_count": 95,
   "metadata": {},
   "outputs": [],
   "source": [
    "openai.api_key_path = \"APIKEY.txt\""
   ]
  },
  {
   "cell_type": "code",
   "execution_count": 125,
   "metadata": {},
   "outputs": [
    {
     "name": "stdout",
     "output_type": "stream",
     "text": [
      "Pack 0 done\n",
      "Pack 1 done\n",
      "Pack 2 done\n",
      "Pack 3 done\n",
      "Pack 4 done\n",
      "Pack 5 done\n",
      "Pack 6 done\n"
     ]
    }
   ],
   "source": [
    "slices = 250\n",
    "nbIter = len(df)//slices\n",
    "\n",
    "for k in range(nbIter+1):\n",
    "    filename = \"data/embeddings/\"+str(k)+\".csv.gzip\"\n",
    "    if not os.path.isfile(filename):\n",
    "        DF = df[slices*k:slices*(k+1)]\n",
    "        if len(DF):\n",
    "            doc_embeddings = compute_doc_embeddings(DF)\n",
    "            # 2 mins for 456 elements\n",
    "            dfEmbed = pd.DataFrame(doc_embeddings).T.reset_index()\n",
    "            dfEmbed.to_csv(filename,index=False,compression=\"gzip\")\n",
    "    else:\n",
    "        print(\"Pack\",k,\"done\")"
   ]
  },
  {
   "cell_type": "code",
   "execution_count": 128,
   "metadata": {},
   "outputs": [
    {
     "name": "stdout",
     "output_type": "stream",
     "text": [
      "3782 articles found.\n"
     ]
    }
   ],
   "source": [
    "import glob\n",
    "all = []\n",
    "for file in glob.glob(\"data/embeddings/*.gzip\"):\n",
    "    all.append(pd.read_csv(file, header=0,compression=\"gzip\"))\n",
    "all = pd.concat(all)\n",
    "cols = list(all.columns)\n",
    "cols[0] = \"hash\"\n",
    "all.columns = cols\n",
    "print(len(all),\"articles found.\")\n",
    "all.to_csv(\"data/embedding.csv.gzip\",index=False,compression=\"gzip\")\n",
    "# Takes 50s to load and save 3k7 articles"
   ]
  },
  {
   "cell_type": "code",
   "execution_count": 129,
   "metadata": {},
   "outputs": [],
   "source": [
    "document_embeddings = load_embeddings(\"data/embedding.csv.gzip\")\n",
    "# Takes 13s for 456 elements\n",
    "# Takes 40s for 3k7"
   ]
  },
  {
   "attachments": {},
   "cell_type": "markdown",
   "metadata": {},
   "source": [
    "# Searching corpus for our questions"
   ]
  },
  {
   "cell_type": "code",
   "execution_count": 130,
   "metadata": {},
   "outputs": [],
   "source": [
    "def vector_similarity(x: list[float], y: list[float]) -> float:\n",
    "    \"\"\"\n",
    "    Returns the similarity between two vectors.\n",
    "    \n",
    "    Because OpenAI Embeddings are normalized to length 1, the cosine similarity is the same as the dot product.\n",
    "    \"\"\"\n",
    "    return np.dot(np.array(x), np.array(y))\n",
    "\n",
    "def order_document_sections_by_query_similarity(query: str, contexts: dict[(str, str), np.array]) -> list[(float, (str, str))]:\n",
    "    \"\"\"\n",
    "    Find the query embedding for the supplied query, and compare it against all of the pre-calculated document embeddings\n",
    "    to find the most relevant sections. \n",
    "    \n",
    "    Return the list of document sections, sorted by relevance in descending order.\n",
    "    \"\"\"\n",
    "    query_embedding = get_embedding(query)\n",
    "    \n",
    "    document_similarities = sorted([\n",
    "        (vector_similarity(query_embedding, doc_embedding), doc_index) for doc_index, doc_embedding in contexts.items()\n",
    "    ], reverse=True)\n",
    "    \n",
    "    return document_similarities"
   ]
  },
  {
   "cell_type": "code",
   "execution_count": 131,
   "metadata": {},
   "outputs": [
    {
     "data": {
      "text/plain": [
       "[(0.8926961676936163, '7e91bff4250a179a5e23fe10be90560a'),\n",
       " (0.8916346624607806, 'f4c1d60ee32436c008f88a17ffaea6e2'),\n",
       " (0.8900219527055997, '2fc1eac005d11151543ad30a49ca3cb1'),\n",
       " (0.8897770956647693, 'c4855cb00f46aafdd864c2e7bc2f74e4'),\n",
       " (0.8891484619503782, 'ebcc0ed56eab7716aea8cc7542f8a3d9')]"
      ]
     },
     "execution_count": 131,
     "metadata": {},
     "output_type": "execute_result"
    }
   ],
   "source": [
    "order_document_sections_by_query_similarity(\"What is Mott MacDonald?\", document_embeddings)[:5]"
   ]
  },
  {
   "cell_type": "markdown",
   "metadata": {},
   "source": [
    "# Now that we know this.."
   ]
  },
  {
   "cell_type": "code",
   "execution_count": 132,
   "metadata": {},
   "outputs": [
    {
     "data": {
      "text/plain": [
       "'Context separator contains 3 tokens'"
      ]
     },
     "execution_count": 132,
     "metadata": {},
     "output_type": "execute_result"
    }
   ],
   "source": [
    "MAX_SECTION_LEN = 500\n",
    "SEPARATOR = \"\\n* \"\n",
    "ENCODING = \"cl100k_base\"  # encoding for text-embedding-ada-002\n",
    "\n",
    "encoding = tiktoken.get_encoding(ENCODING)\n",
    "separator_len = len(encoding.encode(SEPARATOR))\n",
    "\n",
    "f\"Context separator contains {separator_len} tokens\""
   ]
  },
  {
   "cell_type": "code",
   "execution_count": 133,
   "metadata": {},
   "outputs": [],
   "source": [
    "def construct_prompt(question: str, context_embeddings: dict, df: pd.DataFrame) -> str:\n",
    "    \"\"\"\n",
    "    Fetch relevant \n",
    "    \"\"\"\n",
    "    most_relevant_document_sections = order_document_sections_by_query_similarity(question, context_embeddings)\n",
    "    \n",
    "    chosen_sections = []\n",
    "    chosen_sections_len = 0\n",
    "    chosen_sections_indexes = []\n",
    "     \n",
    "    for _, section_index in most_relevant_document_sections:\n",
    "        # Add contexts until we run out of space.        \n",
    "        document_section = df.loc[section_index]\n",
    "        \n",
    "        chosen_sections_len += document_section.tokens + separator_len\n",
    "        if chosen_sections_len > MAX_SECTION_LEN:\n",
    "            break\n",
    "            \n",
    "        chosen_sections.append(SEPARATOR + document_section.content.replace(\"\\n\", \" \"))\n",
    "        chosen_sections_indexes.append(str(section_index))\n",
    "            \n",
    "    # Useful diagnostic information\n",
    "    print(f\"Selected {len(chosen_sections)} document sections:\")\n",
    "    print(\"\\n\".join(chosen_sections_indexes))\n",
    "    \n",
    "    header = \"\"\"Answer the question as truthfully as possible using the provided context, and if the answer is not contained within the text below, say \"I don't know.\"\\n\\nContext:\\n\"\"\"\n",
    "    \n",
    "    return header + \"\".join(chosen_sections) + \"\\n\\n Q: \" + question + \"\\n A:\""
   ]
  },
  {
   "cell_type": "code",
   "execution_count": 1,
   "metadata": {},
   "outputs": [
    {
     "ename": "NameError",
     "evalue": "name 'df' is not defined",
     "output_type": "error",
     "traceback": [
      "\u001b[0;31m---------------------------------------------------------------------------\u001b[0m",
      "\u001b[0;31mNameError\u001b[0m                                 Traceback (most recent call last)",
      "Cell \u001b[0;32mIn[1], line 1\u001b[0m\n\u001b[0;32m----> 1\u001b[0m df[df\u001b[39m.\u001b[39mhash\u001b[39m.\u001b[39misin([\u001b[39m\"\u001b[39m\u001b[39m30cf179e7d4eb310ed43daa120e47f73\u001b[39m\u001b[39m\"\u001b[39m])]\n",
      "\u001b[0;31mNameError\u001b[0m: name 'df' is not defined"
     ]
    }
   ],
   "source": []
  },
  {
   "cell_type": "code",
   "execution_count": 135,
   "metadata": {},
   "outputs": [
    {
     "name": "stdout",
     "output_type": "stream",
     "text": [
      "Selected 3 document sections:\n",
      "4b6acb0e7c1982e29fdd95ba27f422cc\n",
      "ff814dd231d9a4993f6ea5dd4e38b80b\n",
      "7e91bff4250a179a5e23fe10be90560a\n",
      "===\n",
      " Answer the question as truthfully as possible using the provided context, and if the answer is not contained within the text below, say \"I don't know.\"\n",
      "\n",
      "Context:\n",
      "\n",
      "* Mott MacDonald is a recognized leader in the planning, design, and management of telematics. We offer immense experience delivering and managing data storage and networking solutions, variable message signing, adaptive signal system, and user information systems that involve open architecture, common protocols, integration with fleet management systems, and IT support.\n",
      "* Mott MacDonald in North America is a practice-driven organization, led by a network of national and regional practice leaders who are experienced professionals. We are an equal opportunity employer that offers competitive benefits and is committed to developing the career of each employee. In 2014, Mott MacDonald was honored by the American Society of Civil Engineers with a Superior Employer Recognition Award, for encouraging our young engineers to participate in ASCE activities. Individuals with disabilities. Mott MacDonald wants all interested and qualified candidates to be able to use this career site to review and apply for employment opportunities. If you have a disability and need an accommodation to access this site, please contact us for assistance at 925.469.8010 or email us at info@mottmac.com. Equal employment opportunity is the law. Poster All qualified applicants will receive consideration for employment without regard to race, color, religion, sex, national origin, age, protected veteran status, or disability status. To read more about careers opportunities in the United States and Canada visit the United States careers page and Canada careers page. Discover our range of current opportunities in North America below.\n",
      "* The Mott MacDonald Group was formed in 1989 with the merger of two long-established and well-known international engineering consultancies – Mott, Hay & Anderson, renowned for its contribution to transportation engineering, and Sir M MacDonald & Partners, distinguished by a long tradition of water-related projects. This landmark union began our progression towards the dynamic and continually evolving organisation we are today, now operating from 180 principal offices in 50 countries across 12 core sectors - buildings, communications, education, environment, health, industry, international development, oil and gas, power, transport, urban development and water. Our journey so far Much of our growth has been organic, with key acquisitions accelerating our development into one of the most diverse multinational, multiskilled consultancies. Here we highlight some of the companies to have played a key part in our journey so far.\n",
      "\n",
      " Q: Who is Mott MacDonald ?\n",
      " A:\n"
     ]
    }
   ],
   "source": [
    "prompt = construct_prompt(\n",
    "    \"Who is Mott MacDonald ?\",\n",
    "    document_embeddings,\n",
    "    df\n",
    ")\n",
    "\n",
    "print(\"===\\n\", prompt)"
   ]
  },
  {
   "attachments": {},
   "cell_type": "markdown",
   "metadata": {},
   "source": [
    "# Now onto prod!"
   ]
  },
  {
   "cell_type": "code",
   "execution_count": 136,
   "metadata": {},
   "outputs": [],
   "source": [
    "COMPLETIONS_API_PARAMS = {\n",
    "    # We use temperature of 0.0 because it gives the most predictable, factual answer.\n",
    "    \"temperature\": 0.0,\n",
    "    \"max_tokens\": 300,\n",
    "    \"model\": COMPLETIONS_MODEL,\n",
    "}   "
   ]
  },
  {
   "cell_type": "code",
   "execution_count": 137,
   "metadata": {},
   "outputs": [],
   "source": [
    "def answer_query_with_context(\n",
    "    query: str,\n",
    "    df: pd.DataFrame,\n",
    "    document_embeddings: dict[(str, str), np.array],\n",
    "    show_prompt: bool = False\n",
    ") -> str:\n",
    "    prompt = construct_prompt(\n",
    "        query,\n",
    "        document_embeddings,\n",
    "        df\n",
    "    )\n",
    "    \n",
    "    if show_prompt:\n",
    "        print(prompt)\n",
    "\n",
    "    response = openai.Completion.create(\n",
    "                prompt=prompt,\n",
    "                **COMPLETIONS_API_PARAMS\n",
    "            )\n",
    "\n",
    "    return response[\"choices\"][0][\"text\"].strip(\" \\n\")"
   ]
  },
  {
   "cell_type": "code",
   "execution_count": 143,
   "metadata": {},
   "outputs": [
    {
     "name": "stdout",
     "output_type": "stream",
     "text": [
      "Selected 1 document sections:\n",
      "e4aead92eed17577047f7d86c9154688\n",
      "\n",
      "Q: Who is Cathy Travers?\n",
      "A: Cathy Travers is the general manager of Mott MacDonald's UK and Europe built environment business. She began her career with Husband and Company nearly 30 years ago as a chartered engineer, before joining Mott MacDonald in 1990 following the consultancy’s acquisition of Husband and Company. Since then, she has held a range of operational and business development roles, most recently acting as development director for Mott MacDonald’s UK and Europe regional business.\n"
     ]
    }
   ],
   "source": [
    "query = \"Who is Cathy Travers?\"\n",
    "answer = answer_query_with_context(query, df, document_embeddings)\n",
    "\n",
    "print(f\"\\nQ: {query}\\nA: {answer}\")"
   ]
  }
 ],
 "metadata": {
  "kernelspec": {
   "display_name": "Python 3",
   "language": "python",
   "name": "python3"
  },
  "language_info": {
   "codemirror_mode": {
    "name": "ipython",
    "version": 3
   },
   "file_extension": ".py",
   "mimetype": "text/x-python",
   "name": "python",
   "nbconvert_exporter": "python",
   "pygments_lexer": "ipython3",
   "version": "3.10.6"
  },
  "orig_nbformat": 4,
  "vscode": {
   "interpreter": {
    "hash": "e7370f93d1d0cde622a1f8e1c04877d8463912d04d973331ad4851f04de6915a"
   }
  }
 },
 "nbformat": 4,
 "nbformat_minor": 2
}
